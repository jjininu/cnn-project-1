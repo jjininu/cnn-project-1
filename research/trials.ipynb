{
 "cells": [
  {
   "cell_type": "code",
   "execution_count": null,
   "metadata": {},
   "outputs": [],
   "source": []
  }
 ],
 "metadata": {
  "kernelspec": {
   "display_name": "Python 3.10.5 64-bit",
   "language": "python",
   "name": "python3"
  },
  "language_info": {
   "name": "python",
   "version": "3.10.5"
  },
  "orig_nbformat": 4,
  "vscode": {
   "interpreter": {
    "hash": "85bc0bd00c5bc3e7ea827fd2254b72fd2f9c0bc03d7c3338e41b25e502751df4"
   }
  }
 },
 "nbformat": 4,
 "nbformat_minor": 2
}
