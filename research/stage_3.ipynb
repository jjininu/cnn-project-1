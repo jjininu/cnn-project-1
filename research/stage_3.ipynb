{
 "cells": [
  {
   "cell_type": "code",
   "execution_count": null,
   "metadata": {},
   "outputs": [],
   "source": [
    "prepare_callbacks:\n",
    "root_dir: artifacts/prepare_callbacks\n",
    "tensorboard_root_log_dir: artifacts/prepare_callbacks/tensorboard_log_dir\n",
    "checkpoint_model_filepath: artifacts/prepare_callbacks/checkpoint_dir/model.h5"
   ]
  },
  {
   "cell_type": "code",
   "execution_count": null,
   "metadata": {},
   "outputs": [],
   "source": [
    "from deepClassifier.constants.constants import CONFIG_FILE_PATH,PARAMS_FILE_PATH\n",
    "from deepClassifier.utils.common import read_yaml, create_directories"
   ]
  },
  {
   "cell_type": "code",
   "execution_count": null,
   "metadata": {},
   "outputs": [],
   "source": [
    "PrepareCallbacksConfig = namedtuple(\"PrepareCallbacksConfig\", [\n",
    "    \"root_dir\",\n",
    "    \"tensorboard_root_log_dir\",\n",
    "    \"checkpoint_model_filepath\"\n",
    "    ])"
   ]
  },
  {
   "cell_type": "code",
   "execution_count": null,
   "metadata": {},
   "outputs": [],
   "source": [
    "from dataclasses import dataclass\n",
    "from importlib.resources import path\n",
    "from pathlib import Path\n",
    "import time\n",
    "\n",
    "\n",
    "@dataclass(frozen=True)\n",
    "class PrepareCallbacksConfig:\n",
    "    root_dir : Path\n",
    "    tensorboard_root_log_dir : Path\n",
    "    checkpoint_model_filepath : Path"
   ]
  },
  {
   "cell_type": "code",
   "execution_count": null,
   "metadata": {},
   "outputs": [],
   "source": [
    "class ConfigurationManager:\n",
    "    def __init__(\n",
    "        self, \n",
    "        config_filepath = CONFIG_FILE_PATH,\n",
    "        params_filepath = PARAMS_FILE_PATH):\n",
    "        self.config = read_yaml(config_filepath)\n",
    "        self.params = read_yaml(params_filepath)\n",
    "        create_directories([self.config.artifacts_root])\n",
    "\n",
    "    def get_prepare_callbacks_config(self) -> PrepareCallbacksConfig:\n",
    "        config = self.config.prepare_callbacks\n",
    "        model_ckpt_dir= Path(os.path.dirname(self.config.checkpoint_model_filepath))\n",
    "        create_directories([tensorboard_dir,model_ckpt_dir])\n",
    "        \n",
    "        \n",
    "\n",
    "        Prepare_callbacksConfig = Prepare_callbacksConfig(\n",
    "            root_dir = Path(self.config.root_dir)\n",
    "            tensorboard_root_log_dir = Path(config.tensorboard_root_log_dir)\n",
    "            checkpoint_model_filepath  =Path(config.checkpoint_model_filepath)\n",
    "             )\n",
    "        return Prepare_callbacksConfig"
   ]
  },
  {
   "cell_type": "code",
   "execution_count": null,
   "metadata": {},
   "outputs": [],
   "source": [
    "import os\n",
    "import urllib.request as request\n",
    "from zipfile import ZipFile\n",
    "import tensorflow as tf\n",
    "\n",
    "class PrepareCallbacks:\n",
    "    def __init__(self, config: Prepare_callbacksConfig):\n",
    "        self.config = config\n",
    "\n",
    "\n",
    "    @property\n",
    "    def _create_tb_callbacks(self):\n",
    "        timestamp = time.strftime(\"%Y-%m-%d-%H-%M-%S\")\n",
    "        tb_running_log_dir = os.path.join(self.config.tensorboard_root_log_dir,f\"tb_log_at{timestamp}\")\n",
    "        return tf.keras.TensorBoard(log_dir = \"tb_running_log_dir\")\n",
    "\n",
    "    @property\n",
    "    def _create_ckpt_callbacks(self):\n",
    "\n",
    "        return tf.keras.callbacks.ModelCheckpoint(filepath = self.config.checkpoint_model_filepath,\n",
    "             save_only_best = True)\n",
    "\n",
    "    @property\n",
    "    def earlystoping(self):\n",
    "        return tf.keras.callbacks.EarlyStopping(monitor='val_loss',\n",
    "                min_delta=0.1,patience=3,mode='auto',restore_best_weights=False\n",
    "\n",
    "\n",
    "\n",
    "\n",
    "    def get_tb_ckpt_callbacks(self):\n",
    "        return[self._create_tb_callbacks,\n",
    "               self._create_ckpt_callbacks]"
   ]
  },
  {
   "cell_type": "code",
   "execution_count": null,
   "metadata": {},
   "outputs": [],
   "source": [
    "try:\n",
    "    config = ConfigurationManager()\n",
    "    prepare_callbacks_config = config.get_prepare_callbacks_config()\n",
    "    prepare_callbacks =PrepareCallbacks(config=Prepare_callbacksConfig)\n",
    "    prepare_callbacks.get_tb_ckpt_callbacks()\n",
    "\n",
    "except Exception as e:\n",
    "    raise e\n",
    "\n"
   ]
  }
 ],
 "metadata": {
  "language_info": {
   "name": "python"
  },
  "orig_nbformat": 4
 },
 "nbformat": 4,
 "nbformat_minor": 2
}
